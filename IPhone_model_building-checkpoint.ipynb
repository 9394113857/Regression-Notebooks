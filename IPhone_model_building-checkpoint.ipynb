{
 "cells": [
  {
   "cell_type": "code",
   "execution_count": 2,
   "metadata": {
    "id": "RwShVpKDHm5C"
   },
   "outputs": [],
   "source": [
    "import warnings\n",
    "\n",
    "# Suppress warnings\n",
    "warnings.filterwarnings(\"ignore\")"
   ]
  },
  {
   "cell_type": "code",
   "execution_count": 3,
   "metadata": {
    "id": "gThBxQW4uazY"
   },
   "outputs": [],
   "source": [
    "import pandas as pd"
   ]
  },
  {
   "cell_type": "markdown",
   "metadata": {
    "id": "8xG0Y8Y4Nxu3"
   },
   "source": [
    "**pandas** for data manipulation"
   ]
  },
  {
   "cell_type": "code",
   "execution_count": null,
   "metadata": {
    "id": "DNIYybVhzxoQ"
   },
   "outputs": [],
   "source": [
    "# df = pd.read_csv('https://raw.githubusercontent.com/9394113857/Data-Sets/c45efacb19b01448b5a649a648a5469a37786f6b/iphone_price.csv')"
   ]
  },
  {
   "cell_type": "code",
   "execution_count": 4,
   "metadata": {},
   "outputs": [],
   "source": [
    "df = pd.read_csv('C:/Users/Raghu/Documents/regression datasets/iphone_price.csv')"
   ]
  },
  {
   "cell_type": "code",
   "execution_count": 5,
   "metadata": {
    "colab": {
     "base_uri": "https://localhost:8080/",
     "height": 206
    },
    "id": "PzSXeYOq0EcC",
    "outputId": "829024d0-7d40-432a-c707-80bbcdc927d8"
   },
   "outputs": [
    {
     "data": {
      "text/html": [
       "<div>\n",
       "<style scoped>\n",
       "    .dataframe tbody tr th:only-of-type {\n",
       "        vertical-align: middle;\n",
       "    }\n",
       "\n",
       "    .dataframe tbody tr th {\n",
       "        vertical-align: top;\n",
       "    }\n",
       "\n",
       "    .dataframe thead th {\n",
       "        text-align: right;\n",
       "    }\n",
       "</style>\n",
       "<table border=\"1\" class=\"dataframe\">\n",
       "  <thead>\n",
       "    <tr style=\"text-align: right;\">\n",
       "      <th></th>\n",
       "      <th>version</th>\n",
       "      <th>price</th>\n",
       "    </tr>\n",
       "  </thead>\n",
       "  <tbody>\n",
       "    <tr>\n",
       "      <th>0</th>\n",
       "      <td>1</td>\n",
       "      <td>499</td>\n",
       "    </tr>\n",
       "    <tr>\n",
       "      <th>1</th>\n",
       "      <td>2</td>\n",
       "      <td>599</td>\n",
       "    </tr>\n",
       "    <tr>\n",
       "      <th>2</th>\n",
       "      <td>3</td>\n",
       "      <td>599</td>\n",
       "    </tr>\n",
       "    <tr>\n",
       "      <th>3</th>\n",
       "      <td>4</td>\n",
       "      <td>649</td>\n",
       "    </tr>\n",
       "    <tr>\n",
       "      <th>4</th>\n",
       "      <td>5</td>\n",
       "      <td>649</td>\n",
       "    </tr>\n",
       "    <tr>\n",
       "      <th>5</th>\n",
       "      <td>6</td>\n",
       "      <td>749</td>\n",
       "    </tr>\n",
       "    <tr>\n",
       "      <th>6</th>\n",
       "      <td>7</td>\n",
       "      <td>769</td>\n",
       "    </tr>\n",
       "    <tr>\n",
       "      <th>7</th>\n",
       "      <td>8</td>\n",
       "      <td>799</td>\n",
       "    </tr>\n",
       "    <tr>\n",
       "      <th>8</th>\n",
       "      <td>9</td>\n",
       "      <td>949</td>\n",
       "    </tr>\n",
       "    <tr>\n",
       "      <th>9</th>\n",
       "      <td>10</td>\n",
       "      <td>999</td>\n",
       "    </tr>\n",
       "    <tr>\n",
       "      <th>10</th>\n",
       "      <td>11</td>\n",
       "      <td>1249</td>\n",
       "    </tr>\n",
       "    <tr>\n",
       "      <th>11</th>\n",
       "      <td>12</td>\n",
       "      <td>1399</td>\n",
       "    </tr>\n",
       "  </tbody>\n",
       "</table>\n",
       "</div>"
      ],
      "text/plain": [
       "    version  price\n",
       "0         1    499\n",
       "1         2    599\n",
       "2         3    599\n",
       "3         4    649\n",
       "4         5    649\n",
       "5         6    749\n",
       "6         7    769\n",
       "7         8    799\n",
       "8         9    949\n",
       "9        10    999\n",
       "10       11   1249\n",
       "11       12   1399"
      ]
     },
     "execution_count": 5,
     "metadata": {},
     "output_type": "execute_result"
    }
   ],
   "source": [
    "df"
   ]
  },
  {
   "cell_type": "code",
   "execution_count": 6,
   "metadata": {
    "id": "rsRIT3sKBXZT"
   },
   "outputs": [],
   "source": [
    "import matplotlib.pyplot as plt"
   ]
  },
  {
   "cell_type": "markdown",
   "metadata": {
    "id": "UfJLhMyZM5YJ"
   },
   "source": [
    "After importing **matplotlib.pyplot,** you can use its functions to create different types of plots such as line plots, scatter plots, bar plots, histograms, and more."
   ]
  },
  {
   "cell_type": "markdown",
   "metadata": {
    "id": "NEC_Aej7GDoo"
   },
   "source": [
    "**Scatter Plot:**\n",
    "\n",
    "A scatter plot is a graphical representation of data points on a two-dimensional coordinate system. Each data point is represented by a dot, and the position of the dot corresponds to the values of two variables. It is used to visualize the relationship or correlation between two continuous variables.\n",
    "\n"
   ]
  },
  {
   "cell_type": "code",
   "execution_count": 7,
   "metadata": {
    "colab": {
     "base_uri": "https://localhost:8080/",
     "height": 472
    },
    "id": "xR976QBk0FfM",
    "outputId": "f798bf3c-b1ee-45cb-b4e7-89a004e808ba"
   },
   "outputs": [
    {
     "data": {
      "image/png": "[encoded data removed]",
      "text/plain": [
       "<Figure size 640x480 with 1 Axes>"
      ]
     },
     "metadata": {},
     "output_type": "display_data"
    }
   ],
   "source": [
    "# scatter plot:\n",
    "plt.scatter(df['version'], df['price'])\n",
    "plt.xlabel('Area')\n",
    "plt.ylabel('Price')\n",
    "plt.title('Scatter Plot')\n",
    "plt.show()\n"
   ]
  },
  {
   "cell_type": "markdown",
   "metadata": {
    "id": "9LsIJjtDECZJ"
   },
   "source": [
    "**Points:**\n",
    "\n",
    "1.plt.scatter(df['version'], df['price']): This line of code creates a scatter plot using the data from two columns in the DataFrame df. It plots the values of the 'version' column on the x-axis (horizontal axis) and the values of the 'price' column on the y-axis (vertical axis). Each point in the scatter plot represents a data point from the DataFrame, where the x-coordinate is the 'version' value, and the y-coordinate is the 'price' value.\n",
    "\n",
    "2.plt.xlabel('Area'): This line sets the label for the x-axis as 'Area'. This label will appear below the x-axis and represents the variable being plotted along the x-axis, which in this case is the 'version'.\n",
    "\n",
    "3.plt.ylabel('Price'): This line sets the label for the y-axis as 'Price'. This label will appear beside the y-axis and represents the variable being plotted along the y-axis, which in this case is the 'price'.\n",
    "\n",
    "4.plt.title('Scatter Plot'): This line sets the title of the scatter plot as 'Scatter Plot'. The title appears at the top of the plot and gives a descriptive name to the graph.\n",
    "\n",
    "5.plt.show(): This line displays the scatter plot on the screen. It is essential to include this line to see the plot when running the code.\n",
    "\n",
    "**Overview:**\n",
    "In summary, this code creates a scatter plot using the 'version' and 'price' columns from the DataFrame df. The x-axis represents the 'version' values, and the y-axis represents the corresponding 'price' values. The plot is labeled with appropriate axis labels and given the title 'Scatter Plot'."
   ]
  },
  {
   "cell_type": "markdown",
   "metadata": {
    "id": "E6jIwVajGP8f"
   },
   "source": [
    "**Line Plot:**\n",
    "\n",
    "A line plot is a graph that displays data points connected by straight lines. It is commonly used to show the trend or pattern of a single variable over a continuous range, typically on the x-axis. Line plots are useful for visualizing time series data or data that has a natural ordering."
   ]
  },
  {
   "cell_type": "code",
   "execution_count": 8,
   "metadata": {
    "colab": {
     "base_uri": "https://localhost:8080/",
     "height": 472
    },
    "id": "X2FXGBEsBFiS",
    "outputId": "aab37188-9cf7-4b25-9a82-59dffc12b281"
   },
   "outputs": [
    {
     "data": {
      "image/png": "[encoded data removed]",
      "text/plain": [
       "<Figure size 640x480 with 1 Axes>"
      ]
     },
     "metadata": {},
     "output_type": "display_data"
    }
   ],
   "source": [
    "# Line Plot:\n",
    "plt.plot(df['version'], df['price'])\n",
    "plt.xlabel('Version')\n",
    "plt.ylabel('Price')\n",
    "plt.title('Line Plot of: Price vs. Version')\n",
    "plt.show()\n"
   ]
  },
  {
   "cell_type": "markdown",
   "metadata": {
    "id": "lX78bo7VEf9w"
   },
   "source": [
    "**Points:**\n",
    "\n",
    "1.plt.plot(df['version'], df['price']): This line of code creates a line plot using the data from two columns in the DataFrame df. It plots the values of the 'version' column on the x-axis (horizontal axis) and the values of the 'price' column on the y-axis (vertical axis). The line plot connects the data points in the order they appear in the DataFrame, representing the relationship between 'version' and 'price'.\n",
    "\n",
    "2.plt.xlabel('Version'): This line sets the label for the x-axis as 'Version'. This label will appear below the x-axis and represents the variable being plotted along the x-axis, which in this case is the 'version'.\n",
    "\n",
    "3.plt.ylabel('Price'): This line sets the label for the y-axis as 'Price'. This label will appear beside the y-axis and represents the variable being plotted along the y-axis, which in this case is the 'price'.\n",
    "\n",
    "4.plt.title('Line Plot of: Price vs. Version'): This line sets the title of the line plot as 'Line Plot of: Price vs. Version'. The title appears at the top of the plot and provides a descriptive name for the graph, indicating that it shows the relationship between 'Price' and 'Version'.\n",
    "\n",
    "5.plt.show(): This line displays the line plot on the screen. It is essential to include this line to see the plot when running the code.\n",
    "\n",
    "**Overview:**\n",
    "In summary, this code creates a line plot using the 'version' and 'price' columns from the DataFrame df. The x-axis represents the 'version' values, and the y-axis represents the corresponding 'price' values. The plot is labeled with appropriate axis labels and given the title 'Line Plot of: Price vs. Version'. The line plot shows the trend or pattern of how the 'price' changes concerning the 'version'."
   ]
  },
  {
   "cell_type": "markdown",
   "metadata": {
    "id": "cLGOm5yyGZEB"
   },
   "source": [
    "**Bar Plot:**\n",
    "\n",
    "A bar plot is a graphical representation that uses rectangular bars of equal width to display data. It is often used to compare discrete or categorical data between different groups. The length of each bar represents the quantity or frequency of the data it represents."
   ]
  },
  {
   "cell_type": "code",
   "execution_count": 9,
   "metadata": {
    "colab": {
     "base_uri": "https://localhost:8080/",
     "height": 472
    },
    "id": "lgbM-dOODKGN",
    "outputId": "a5a963c6-20c4-4dbe-8c47-5ceba10d3387"
   },
   "outputs": [
    {
     "data": {
      "image/png": "[encoded data removed]",
      "text/plain": [
       "<Figure size 640x480 with 1 Axes>"
      ]
     },
     "metadata": {},
     "output_type": "display_data"
    }
   ],
   "source": [
    "# Bar Plot:\n",
    "plt.bar(df['version'], df['price'])\n",
    "plt.xlabel('Version')\n",
    "plt.ylabel('Price')\n",
    "plt.title('Bar Plot of Price vs. Version')\n",
    "plt.show()\n"
   ]
  },
  {
   "cell_type": "code",
   "execution_count": null,
   "metadata": {
    "id": "9BLZgUhNVaFT"
   },
   "outputs": [],
   "source": []
  },
  {
   "cell_type": "markdown",
   "metadata": {
    "id": "uzY-DLMKElnU"
   },
   "source": [
    "**Points:**\n",
    "\n",
    "1.plt.bar(df['version'], df['price']): This line of code creates a bar plot using the data from two columns in the DataFrame df. It plots the values of the 'version' column on the x-axis (horizontal axis) and the values of the 'price' column on the y-axis (vertical axis). Each bar in the plot represents a data point from the DataFrame, where the height of the bar corresponds to the 'price' value and the position of the bar along the x-axis represents the 'version' value.\n",
    "\n",
    "2.plt.xlabel('Version'): This line sets the label for the x-axis as 'Version'. This label will appear below the x-axis and represents the variable being plotted along the x-axis, which in this case is the 'version'.\n",
    "\n",
    "3.plt.ylabel('Price'): This line sets the label for the y-axis as 'Price'. This label will appear beside the y-axis and represents the variable being plotted along the y-axis, which in this case is the 'price'.\n",
    "\n",
    "4.plt.title('Bar Plot of Price vs. Version'): This line sets the title of the bar plot as 'Bar Plot of Price vs. Version'. The title appears at the top of the plot and provides a descriptive name for the graph, indicating that it shows the relationship between 'Price' and 'Version' using bars.\n",
    "\n",
    "5.plt.show(): This line displays the bar plot on the screen. It is essential to include this line to see the plot when running the code.\n",
    "\n",
    "**Overview:**\n",
    "In summary, this code creates a bar plot using the 'version' and 'price' columns from the DataFrame df. The x-axis represents the 'version' values, and the y-axis represents the corresponding 'price' values. Each bar in the plot represents a data point, and the height of the bar indicates the 'price' value for that particular 'version'. The plot is labeled with appropriate axis labels and given the title 'Bar Plot of Price vs. Version'. The bar plot allows for easy comparison of 'price' values across different 'version' categories."
   ]
  },
  {
   "cell_type": "markdown",
   "metadata": {
    "id": "n2kGD7YxGf_s"
   },
   "source": [
    "**Box Plot:**\n",
    "\n",
    "A box plot, also known as a box-and-whisker plot, is a way of visually summarizing the distribution of a dataset. It displays the median, quartiles, and any potential outliers of the data. The box represents the interquartile range (IQR), and the whiskers extend to the minimum and maximum non-outlier values within a certain range."
   ]
  },
  {
   "cell_type": "code",
   "execution_count": 10,
   "metadata": {
    "colab": {
     "base_uri": "https://localhost:8080/",
     "height": 472
    },
    "id": "E7jeROY6Db2I",
    "outputId": "779bf4e7-9b66-40e8-ef7f-3ca468947e90"
   },
   "outputs": [
    {
     "data": {
      "image/png": "[encoded data removed]",
      "text/plain": [
       "<Figure size 640x480 with 1 Axes>"
      ]
     },
     "metadata": {},
     "output_type": "display_data"
    }
   ],
   "source": [
    "# Box Plot:\n",
    "plt.boxplot([df[df['version'] == v]['price'] for v in df['version'].unique()])\n",
    "plt.xlabel('Version')\n",
    "plt.ylabel('Price')\n",
    "plt.title('Box Plot of Price vs. Version')\n",
    "plt.show()\n"
   ]
  },
  {
   "cell_type": "markdown",
   "metadata": {
    "id": "jHx5Y8qyE6a6"
   },
   "source": [
    "**Points:**\n",
    "\n",
    "1.plt.boxplot([df[df['version'] == v]['price'] for v in df['version'].unique()]): This line of code creates a box plot using the data from the DataFrame df. It calculates the box plot statistics for the 'price' column based on different unique values of the 'version' column. For each unique value of 'version', a subset of 'price' data is extracted from the DataFrame, and the box plot statistics (e.g., median, quartiles, outliers) are computed for each subset. These box plots are then displayed side by side on the graph.\n",
    "\n",
    "2.[df[df['version'] == v]['price'] for v in df['version'].unique()]: This part of the code is called a list comprehension. It is used to create a list of subsets of the 'price' column, where each subset corresponds to a unique value of 'version'. It iterates through the unique values of 'version' using for v in df['version'].unique(), and for each value 'v', it extracts the 'price' data where 'version' is equal to 'v' using df[df['version'] == v]['price'].\n",
    "\n",
    "3.plt.xlabel('Version'): This line sets the label for the x-axis as 'Version'. This label will appear below the x-axis and represents the variable being plotted along the x-axis, which in this case is the 'version'.\n",
    "\n",
    "4.plt.ylabel('Price'): This line sets the label for the y-axis as 'Price'. This label will appear beside the y-axis and represents the variable being plotted along the y-axis, which in this case is the 'price'.\n",
    "\n",
    "5.plt.title('Box Plot of Price vs. Version'): This line sets the title of the box plot as 'Box Plot of Price vs. Version'. The title appears at the top of the plot and provides a descriptive name for the graph, indicating that it shows the distribution of 'Price' across different 'Version' categories using box plots.\n",
    "\n",
    "6.plt.show(): This line displays the box plot on the screen. It is essential to include this line to see the plot when running the code.\n",
    "\n",
    "**Overview:**\n",
    "In summary, this code creates a box plot to visualize the distribution of 'price' values for different unique categories of 'version' in the DataFrame df. Each box plot represents the spread of 'price' values, including the median, quartiles, and any potential outliers, for each 'version' category. The plot is labeled with appropriate axis labels and given the title 'Box Plot of Price vs. Version'. The box plot is useful for understanding the distribution and variability of 'price' data across different 'version' categories."
   ]
  },
  {
   "cell_type": "code",
   "execution_count": 15,
   "metadata": {
    "id": "PzS2vvZ8Df5F"
   },
   "outputs": [],
   "source": [
    "x = df['version'].values.reshape(-1,1)"
   ]
  },
  {
   "cell_type": "markdown",
   "metadata": {
    "id": "UlFSWtyVLHuk"
   },
   "source": [
    "**Points:**\n",
    "\n",
    "**1.df:** This variable represents a DataFrame, which is a data structure commonly used in data analysis and manipulation in Python, often associated with the pandas library.\n",
    "\n",
    "**2.df['version']:** This part of the code accesses a specific column named 'version' from the DataFrame df. The result is a pandas Series, which is essentially a one-dimensional labeled array.\n",
    "\n",
    "**3.values:** The .values attribute converts the pandas Series into a NumPy array. This step is useful if you want to perform numerical computations on the data or use it in other libraries that support NumPy arrays.\n",
    "\n",
    "**4..reshape(-1, 1):** The reshape method is applied to the NumPy array obtained in the previous step. The purpose of this reshaping is to convert the one-dimensional array into a two-dimensional array with a single column. The -1 argument used in the reshape function acts as a placeholder, indicating that the number of rows should be automatically determined based on the length of the original array. The number 1 as the second argument represents the number of columns we want in the reshaped array.\n",
    "\n",
    "**Overview:**\n",
    "\n",
    "In summary, the code takes a specific column 'version' from the DataFrame df, converts it into a one-dimensional NumPy array, and then reshapes it into a two-dimensional array with a single column. This is commonly done in machine learning tasks where you may need to provide the data in a certain format for model training or other computations."
   ]
  },
  {
   "cell_type": "code",
   "execution_count": 16,
   "metadata": {
    "id": "XS73RKNGJ7kW"
   },
   "outputs": [
    {
     "data": {
      "text/plain": [
       "numpy.ndarray"
      ]
     },
     "execution_count": 16,
     "metadata": {},
     "output_type": "execute_result"
    }
   ],
   "source": [
    "type(x)"
   ]
  },
  {
   "cell_type": "code",
   "execution_count": 17,
   "metadata": {
    "colab": {
     "base_uri": "https://localhost:8080/"
    },
    "id": "Zk6LmwCuKCdv",
    "outputId": "3d5a21e3-7ece-40e6-dfd3-b5a6653dddd6"
   },
   "outputs": [],
   "source": [
    "y = df['price'].values.reshape(-1,1)"
   ]
  },
  {
   "cell_type": "code",
   "execution_count": 18,
   "metadata": {
    "id": "mFf2aSq3Vd_3"
   },
   "outputs": [
    {
     "data": {
      "text/plain": [
       "numpy.ndarray"
      ]
     },
     "execution_count": 18,
     "metadata": {},
     "output_type": "execute_result"
    }
   ],
   "source": [
    "type(y)"
   ]
  },
  {
   "cell_type": "markdown",
   "metadata": {
    "id": "6GcntMgYLhC9"
   },
   "source": [
    "**A.** The variable x will be of type numpy.ndarray, which stands for NumPy array.\n",
    "\n",
    "**B.** This is because the operation .values.reshape(-1, 1) converts the **pandas Series into a NumPy array,** and the result is stored in the variable **x.**"
   ]
  },
  {
   "cell_type": "code",
   "execution_count": 19,
   "metadata": {
    "colab": {
     "base_uri": "https://localhost:8080/"
    },
    "id": "n4T57zIWKHDC",
    "outputId": "66388d10-d52e-420b-8eec-e21e9d1aaa00"
   },
   "outputs": [
    {
     "name": "stdout",
     "output_type": "stream",
     "text": [
      "[[ 1]\n",
      " [ 2]\n",
      " [ 3]\n",
      " [ 4]\n",
      " [ 5]\n",
      " [ 6]\n",
      " [ 7]\n",
      " [ 8]\n",
      " [ 9]\n",
      " [10]\n",
      " [11]\n",
      " [12]]\n"
     ]
    }
   ],
   "source": [
    "print(x)"
   ]
  },
  {
   "cell_type": "markdown",
   "metadata": {
    "id": "neK7Lv2PMY5A"
   },
   "source": [
    "1.The print(x) statement will display the contents of the NumPy array x, which was obtained by reshaping the 'version' column of the DataFrame df.\n",
    "\n",
    "2.The output will be a two-dimensional NumPy array with a single column, where each row represents an element from the 'version' column in the DataFrame. The exact values will depend on the data in the 'version' column of df."
   ]
  },
  {
   "cell_type": "code",
   "execution_count": 20,
   "metadata": {
    "colab": {
     "base_uri": "https://localhost:8080/"
    },
    "id": "DUtDCG8FKJXB",
    "outputId": "4c7f63f7-e42e-40c2-e57b-6de2d6682345"
   },
   "outputs": [
    {
     "name": "stdout",
     "output_type": "stream",
     "text": [
      "[[ 499]\n",
      " [ 599]\n",
      " [ 599]\n",
      " [ 649]\n",
      " [ 649]\n",
      " [ 749]\n",
      " [ 769]\n",
      " [ 799]\n",
      " [ 949]\n",
      " [ 999]\n",
      " [1249]\n",
      " [1399]]\n"
     ]
    }
   ],
   "source": [
    "print(y)"
   ]
  },
  {
   "cell_type": "markdown",
   "metadata": {
    "id": "CPbxOAqjMllW"
   },
   "source": [
    "# Fit the linear regression model:"
   ]
  },
  {
   "cell_type": "code",
   "execution_count": 21,
   "metadata": {
    "id": "RaPlZ1TCMoMN"
   },
   "outputs": [],
   "source": [
    "from sklearn.linear_model import LinearRegression"
   ]
  },
  {
   "cell_type": "markdown",
   "metadata": {
    "id": "GxmOKzKIOB_a"
   },
   "source": [
    "**About Linear Regression:**\n",
    "\n",
    "The provided code snippet imports the LinearRegression class from the sklearn.linear_model module. This is a Python library commonly known as scikit-learn, which provides various machine learning algorithms and tools for data analysis and modeling.\n",
    "\n",
    "**1.\tfrom sklearn.linear_model import LinearRegression:** This line is an import statement, which allows the code to access the LinearRegression class from the sklearn.linear_model module. This class implements a simple linear regression algorithm, which is a supervised learning method used for predicting a continuous target variable based on one or more independent variables.\n",
    "\n",
    "**2.\tMachine Learning Model Selection:** The LinearRegression class is one of the many regression algorithms available in scikit-learn. By importing it, the code author has chosen to use the simple linear regression model for their specific task or problem.\n",
    "\n",
    "**3.\tInitialization of the LinearRegression Class:** After importing the class, the next step would typically involve creating an instance of the LinearRegression class. This instance serves as the actual model that can be trained and used for predictions.\n",
    "\n",
    "**4.\tTraining and Predictions:** To use the model for making predictions, it first needs to be trained on a dataset. The training data would consist of input features (independent variables) and corresponding target values (dependent variable). The model will then learn the relationships between the input features and the target variable during the training process.\n",
    "\n",
    "**5.\tModel Evaluation:** After training, the performance of the model can be evaluated using various metrics depending on the nature of the problem (e.g., mean squared error, R-squared, etc.).\n",
    "\n",
    "**6.\tPredictions:** Once the model is trained and evaluated, it can be used to make predictions on new, unseen data. This is done using the predict method of the LinearRegression class, where you input the new data, and the model outputs the predicted target values based on the learned relationships.\n",
    "\n"
   ]
  },
  {
   "cell_type": "code",
   "execution_count": 22,
   "metadata": {
    "id": "K3jDdazpNmB8"
   },
   "outputs": [],
   "source": [
    "linear_regression_model = LinearRegression()"
   ]
  },
  {
   "cell_type": "code",
   "execution_count": 23,
   "metadata": {
    "colab": {
     "base_uri": "https://localhost:8080/",
     "height": 75
    },
    "id": "KGWR-T51QTR-",
    "outputId": "37578526-5765-4560-9d80-95b16a6f4010"
   },
   "outputs": [
    {
     "data": {
      "text/html": [
       "<style>#sk-container-id-1 {color: black;}#sk-container-id-1 pre{padding: 0;}#sk-container-id-1 div.sk-toggleable {background-color: white;}#sk-container-id-1 label.sk-toggleable__label {cursor: pointer;display: block;width: 100%;margin-bottom: 0;padding: 0.3em;box-sizing: border-box;text-align: center;}#sk-container-id-1 label.sk-toggleable__label-arrow:before {content: \"▸\";float: left;margin-right: 0.25em;color: #696969;}#sk-container-id-1 label.sk-toggleable__label-arrow:hover:before {color: black;}#sk-container-id-1 div.sk-estimator:hover label.sk-toggleable__label-arrow:before {color: black;}#sk-container-id-1 div.sk-toggleable__content {max-height: 0;max-width: 0;overflow: hidden;text-align: left;background-color: #f0f8ff;}#sk-container-id-1 div.sk-toggleable__content pre {margin: 0.2em;color: black;border-radius: 0.25em;background-color: #f0f8ff;}#sk-container-id-1 input.sk-toggleable__control:checked~div.sk-toggleable__content {max-height: 200px;max-width: 100%;overflow: auto;}#sk-container-id-1 input.sk-toggleable__control:checked~label.sk-toggleable__label-arrow:before {content: \"▾\";}#sk-container-id-1 div.sk-estimator input.sk-toggleable__control:checked~label.sk-toggleable__label {background-color: #d4ebff;}#sk-container-id-1 div.sk-label input.sk-toggleable__control:checked~label.sk-toggleable__label {background-color: #d4ebff;}#sk-container-id-1 input.sk-hidden--visually {border: 0;clip: rect(1px 1px 1px 1px);clip: rect(1px, 1px, 1px, 1px);height: 1px;margin: -1px;overflow: hidden;padding: 0;position: absolute;width: 1px;}#sk-container-id-1 div.sk-estimator {font-family: monospace;background-color: #f0f8ff;border: 1px dotted black;border-radius: 0.25em;box-sizing: border-box;margin-bottom: 0.5em;}#sk-container-id-1 div.sk-estimator:hover {background-color: #d4ebff;}#sk-container-id-1 div.sk-parallel-item::after {content: \"\";width: 100%;border-bottom: 1px solid gray;flex-grow: 1;}#sk-container-id-1 div.sk-label:hover label.sk-toggleable__label {background-color: #d4ebff;}#sk-container-id-1 div.sk-serial::before {content: \"\";position: absolute;border-left: 1px solid gray;box-sizing: border-box;top: 0;bottom: 0;left: 50%;z-index: 0;}#sk-container-id-1 div.sk-serial {display: flex;flex-direction: column;align-items: center;background-color: white;padding-right: 0.2em;padding-left: 0.2em;position: relative;}#sk-container-id-1 div.sk-item {position: relative;z-index: 1;}#sk-container-id-1 div.sk-parallel {display: flex;align-items: stretch;justify-content: center;background-color: white;position: relative;}#sk-container-id-1 div.sk-item::before, #sk-container-id-1 div.sk-parallel-item::before {content: \"\";position: absolute;border-left: 1px solid gray;box-sizing: border-box;top: 0;bottom: 0;left: 50%;z-index: -1;}#sk-container-id-1 div.sk-parallel-item {display: flex;flex-direction: column;z-index: 1;position: relative;background-color: white;}#sk-container-id-1 div.sk-parallel-item:first-child::after {align-self: flex-end;width: 50%;}#sk-container-id-1 div.sk-parallel-item:last-child::after {align-self: flex-start;width: 50%;}#sk-container-id-1 div.sk-parallel-item:only-child::after {width: 0;}#sk-container-id-1 div.sk-dashed-wrapped {border: 1px dashed gray;margin: 0 0.4em 0.5em 0.4em;box-sizing: border-box;padding-bottom: 0.4em;background-color: white;}#sk-container-id-1 div.sk-label label {font-family: monospace;font-weight: bold;display: inline-block;line-height: 1.2em;}#sk-container-id-1 div.sk-label-container {text-align: center;}#sk-container-id-1 div.sk-container {/* jupyter's `normalize.less` sets `[hidden] { display: none; }` but bootstrap.min.css set `[hidden] { display: none !important; }` so we also need the `!important` here to be able to override the default hidden behavior on the sphinx rendered scikit-learn.org. See: https://github.com/scikit-learn/scikit-learn/issues/21755 */display: inline-block !important;position: relative;}#sk-container-id-1 div.sk-text-repr-fallback {display: none;}</style><div id=\"sk-container-id-1\" class=\"sk-top-container\"><div class=\"sk-text-repr-fallback\"><pre>LinearRegression()</pre><b>In a Jupyter environment, please rerun this cell to show the HTML representation or trust the notebook. <br />On GitHub, the HTML representation is unable to render, please try loading this page with nbviewer.org.</b></div><div class=\"sk-container\" hidden><div class=\"sk-item\"><div class=\"sk-estimator sk-toggleable\"><input class=\"sk-toggleable__control sk-hidden--visually\" id=\"sk-estimator-id-1\" type=\"checkbox\" checked><label for=\"sk-estimator-id-1\" class=\"sk-toggleable__label sk-toggleable__label-arrow\">LinearRegression</label><div class=\"sk-toggleable__content\"><pre>LinearRegression()</pre></div></div></div></div></div>"
      ],
      "text/plain": [
       "LinearRegression()"
      ]
     },
     "execution_count": 23,
     "metadata": {},
     "output_type": "execute_result"
    }
   ],
   "source": [
    "linear_regression_model.fit(x,y) # TypeError: LinearRegression.fit() missing 2 required positional arguments: 'X' and 'y'"
   ]
  },
  {
   "cell_type": "code",
   "execution_count": null,
   "metadata": {
    "id": "o78nac37Vl4p"
   },
   "outputs": [],
   "source": []
  },
  {
   "cell_type": "markdown",
   "metadata": {
    "id": "UxaY4phCQ1dp"
   },
   "source": [
    "**Here, a linear regression model is created and fitted using the 'version' column as the feature (input) and the 'price' column as the target variable (output).**\n",
    "\n",
    "1.linear_regression_model = LinearRegression(): This line creates an instance of the LinearRegression class and assigns it to the variable linear_regression_model. This instance will serve as the model that will be used to perform linear regression.\n",
    "\n",
    "2.Data Preparation: The code assumes that there is a DataFrame named df that contains the data for training the linear regression model. The DataFrame df is expected to have a column named 'version', which represents the input feature(s) (independent variable), and another column named 'price', which represents the target variable (dependent variable).\n",
    "\n",
    "3.Model Fitting (Training): The fit method of the LinearRegression class is called to train the model on the given data. The fit method takes two arguments: the input features and the target variable. In this case, the input feature is df[['version']], which is a DataFrame containing the feature(s) 'version'. The target variable is df[['price']], which is a DataFrame containing the target values 'price'. The fit method will use the input feature(s) and target variable to learn the best-fitting linear regression model.\n",
    "\n",
    "4.Training Process: During the training process, the linear regression model will analyze the input feature 'version' and its corresponding target variable 'price' from the DataFrame df. The model will calculate the coefficients (slope) and intercept of the linear equation that best fits the relationship between the input feature and the target variable.\n",
    "\n",
    "5.Model Ready for Prediction: Once the fit method is executed successfully, the linear_regression_model is trained and ready to make predictions on new data. The model has learned the underlying pattern between the 'version' and 'price' columns in the training data and can use that knowledge to predict the 'price' values for new versions."
   ]
  },
  {
   "cell_type": "code",
   "execution_count": 24,
   "metadata": {
    "colab": {
     "base_uri": "https://localhost:8080/"
    },
    "id": "HfkBqkExQcsq",
    "outputId": "0dbcf662-208d-4c48-d967-672bb3af12cd"
   },
   "outputs": [
    {
     "name": "stdin",
     "output_type": "stream",
     "text": [
      "Please Enter iPhone_version:  13\n"
     ]
    },
    {
     "name": "stdout",
     "output_type": "stream",
     "text": [
      "/033[1mThe Amount in Dollars is:/033[0m 1292.030303030303\n",
      "/033[1mThe Amount in Rupees is:/033[0m 102987.73545454544\n"
     ]
    }
   ],
   "source": [
    "# Predicting the price for a given iPhone version\n",
    "\n",
    "# Prompt the user to enter the iPhone version for which they want to predict the price\n",
    "iphone_version = float(input(\"Please Enter iPhone_version: \"))\n",
    "\n",
    "# Use the trained linear regression model to predict the corresponding price based on the input version\n",
    "prediction_value = linear_regression_model.predict([[iphone_version]])\n",
    "\n",
    "# Convert the predicted price from dollars to rupees using the exchange rate of 1 USD to 79.71 INR (Indian Rupees)\n",
    "dollar = prediction_value\n",
    "rupees = dollar * 79.71\n",
    "\n",
    "# Print the predicted price in dollars and rupees\n",
    "# Note: The `dollar` and `rupees` variables are assumed to be 2D arrays from the `predict` method,\n",
    "# so we access the predicted values using indexing [0][0].\n",
    "# The \"/033[1m\" escape code is used to make the text bold, and \"/033[0m\" is used to reset the formatting to normal.\n",
    "print(\"/033[1mThe Amount in Dollars is:/033[0m\", dollar[0][0])\n",
    "print(\"/033[1mThe Amount in Rupees is:/033[0m\", rupees[0][0])\n"
   ]
  },
  {
   "cell_type": "code",
   "execution_count": 25,
   "metadata": {
    "id": "NdOCUon6S5QB"
   },
   "outputs": [],
   "source": [
    "import pickle"
   ]
  },
  {
   "cell_type": "code",
   "execution_count": 26,
   "metadata": {
    "id": "wWLOukiiRn8i"
   },
   "outputs": [],
   "source": [
    "# Dump the trained model to a file\n",
    "pickle.dump(linear_regression_model, open('Iphone_Price_LinearRegression.pkl', 'wb'))\n"
   ]
  },
  {
   "cell_type": "code",
   "execution_count": null,
   "metadata": {
    "id": "MWO9S4kwVs4z"
   },
   "outputs": [],
   "source": []
  },
  {
   "cell_type": "markdown",
   "metadata": {
    "id": "y70xiExSTZ3U"
   },
   "source": [
    "**1.\tpickle.dump:** The pickle module in Python provides functionality for serializing and deserializing Python objects. In this code, pickle.dump is used to serialize the trained LinearRegression model and save it to a file.\n",
    "\n",
    "**2.\tlinear_regression_model:** This variable holds the trained LinearRegression model that you want to save.\n",
    "\n",
    "**3.\topen('Iphone_Price_LinearRegression.pkl', 'wb'):** This part of the code uses the open function to create a new file named 'Iphone_Price_LinearRegression.pkl' in binary write mode ('wb'). The file extension .pkl is commonly used for pickled files, indicating that the file contains serialized Python objects.\n",
    "\n",
    "**4.\tpickle.dump(linear_regression_model, open('Iphone_Price_LinearRegression.pkl', 'wb')):** This line combines the pickle.dump method with the open function to save the trained linear_regression_model to the file specified by the given filename. The model is written to the file in a binary format.\n",
    "\n",
    "**5.\tFile Persistence:** After executing this line, the trained LinearRegression model is saved as a binary file called 'Iphone_Price_LinearRegression.pkl' in the current working directory (or any specified directory if the path is provided).\n",
    "\n",
    "**6.\tBenefits:** By saving the model to a file, you can load it later using the pickle.load function and reuse it for making predictions on new data without having to train the model from scratch every time. This is especially useful when you want to deploy the trained model to a production environment or share it with others for inference on different machines.\n",
    "\n",
    "**Overview:**\n",
    "Remember that when using pickle, it is essential to be cautious about the source of the pickled file. Unpickling files from untrusted sources could potentially lead to security vulnerabilities. Additionally, if you plan to use the model in different Python versions or environments, it's a good idea to ensure compatibility and test the loading process after moving the pickled file to a different environment."
   ]
  },
  {
   "cell_type": "code",
   "execution_count": 27,
   "metadata": {
    "id": "ovObFyg6R_yR"
   },
   "outputs": [],
   "source": [
    "# Load the saved model from file\n",
    "loaded_linear_regression_model = pickle.load(open(\"Iphone_Price_LinearRegression.pkl\", \"rb\"))\n"
   ]
  },
  {
   "cell_type": "code",
   "execution_count": null,
   "metadata": {
    "id": "46d-3mNDVykQ"
   },
   "outputs": [],
   "source": []
  },
  {
   "cell_type": "markdown",
   "metadata": {
    "id": "Xj_DmsEpT4gj"
   },
   "source": [
    "**1.\tpickle.load:** The pickle module in Python provides functionality for serializing and deserializing Python objects. In this code, pickle.load is used to deserialize and load the trained LinearRegression model from the pickled file.\n",
    "\n",
    "**2.\topen(\"Iphone_Price_LinearRegression.pkl\", \"rb\"):** This part of the code uses the open function to open the pickled file named 'Iphone_Price_LinearRegression.pkl' in binary read mode ('rb'). The file was previously saved using pickle.dump.\n",
    "\n",
    "**3.\tpickle.load(open(\"Iphone_Price_LinearRegression.pkl\", \"rb\")):** This line combines the pickle.load method with the open function to load the trained LinearRegression model from the specified pickled file.\n",
    "\n",
    "**4.\tloaded_linear_regression_model:** After executing the code, the loaded model is stored in the variable loaded_linear_regression_model. This variable now holds the trained model, and you can use it to make predictions on new data.\n",
    "\n",
    "**5.\tFile Persistence:** The model saved in the pickled file using pickle.dump earlier is now restored and ready for use. The loaded model is essentially the same as the original model that was saved.\n",
    "\n",
    "**6.\tBenefits:** Loading a pre-trained model from a pickled file is advantageous because it saves time and computational resources. You can train the model once, save it to a file, and then load it whenever needed without the need to repeat the training process. This is particularly useful when deploying a trained model to production or sharing it with others for inference on different machines.\n",
    "\n",
    "**Overview:**\n",
    "\n",
    "Remember to make sure that the pickled file exists in the specified location before running this code. Also, ensure that the environment or Python version in which you are loading the model is compatible with the one used when the model was saved. If there are any changes in the model's structure or dependencies between the time of saving and loading, it may cause errors during the loading process.\n"
   ]
  },
  {
   "cell_type": "code",
   "execution_count": 28,
   "metadata": {
    "colab": {
     "base_uri": "https://localhost:8080/"
    },
    "id": "E0Xw9kxXTxdO",
    "outputId": "f65397ac-20a8-40d9-a69a-580a10f2a208"
   },
   "outputs": [
    {
     "name": "stdin",
     "output_type": "stream",
     "text": [
      "Please Enter iPhone_version:  13\n"
     ]
    },
    {
     "name": "stdout",
     "output_type": "stream",
     "text": [
      "/033[1mThe Dollar Amount is:/033[0m 1292.030303030303 Dollars\n",
      "/033[1mThe Amount in Rupees is:/033[0m 102987.73545454544 Rupees\n"
     ]
    }
   ],
   "source": [
    "# This code snippet loads the saved linear regression model from the file 'Iphone_Price_LinearRegression.pkl' using the pickle module.\n",
    "\n",
    "# Predict using the loaded model\n",
    "\n",
    "# Prompt the user to enter the iPhone version for which they want to predict the price\n",
    "iphone_version = float(input(\"Please Enter iPhone_version: \"))\n",
    "\n",
    "# Use the loaded linear regression model to predict the corresponding price based on the input version\n",
    "prediction_value = loaded_linear_regression_model.predict([[iphone_version]])\n",
    "\n",
    "# Convert the predicted price from dollars to rupees using the exchange rate of 1 USD to 79.71 INR (Indian Rupees)\n",
    "dollar = prediction_value[0][0]\n",
    "rupees = dollar * 79.71\n",
    "\n",
    "# Print the predicted price in dollars and rupees\n",
    "# Note: The `prediction_value` variable is assumed to be a 2D array from the `predict` method,\n",
    "# so we access the predicted value using indexing [0][0].\n",
    "# The \"/033[1m\" escape code is used to make the text bold, and \"/033[0m\" is used to reset the formatting to normal.\n",
    "print(\"/033[1mThe Dollar Amount is:/033[0m\", dollar, \"Dollars\")\n",
    "print(\"/033[1mThe Amount in Rupees is:/033[0m\", rupees, \"Rupees\")"
   ]
  },
  {
   "cell_type": "code",
   "execution_count": null,
   "metadata": {
    "id": "GsJ064M-V24Q"
   },
   "outputs": [],
   "source": []
  },
  {
   "cell_type": "markdown",
   "metadata": {
    "id": "q7-TIfOlU0ao"
   },
   "source": [
    "1.\tLoad the Saved Model: The code snippet begins by loading a previously saved linear regression model from the file 'Iphone_Price_LinearRegression.pkl' using the pickle module. The loaded_linear_regression_model will now contain the trained model, which was saved earlier in the pickled file.\n",
    "2.\tPrompt User Input: The code prompts the user to enter the iPhone version for which they want to predict the price. The user input is taken as a floating-point number and stored in the variable iphone_version.\n",
    "3.\tPrediction: The loaded linear regression model loaded_linear_regression_model is used to predict the corresponding price based on the input iPhone version. The predict method of the model is called with the input version as [[iphone_version]], where the double brackets are used to ensure the input data is in the correct format.\n",
    "4.\tConvert to Rupees: The predicted price is initially in dollars. The code multiplies the dollar value by the exchange rate of 1 USD to 79.71 INR (Indian Rupees) to convert it to the corresponding rupee amount. The converted rupee value is stored in the variable rupees.\n",
    "5.\tPrint Predicted Prices: The code prints the predicted price in dollars and rupees. The /033[1m escape code is used before the text to make it bold, and /033[0m is used after the text to reset the formatting to normal.\n",
    "6.\tSeparators: The code prints a separator line '======================================' after displaying the predicted prices, providing visual separation in the output.\n",
    "\n",
    "**Overview:**\n",
    "\n",
    "To summarize, this code snippet loads a pre-trained linear regression model from a pickled file, prompts the user for input, uses the model to predict the price based on the provided input, converts the predicted price to rupees, and finally prints the predicted prices in both dollars and rupees. The bold formatting and separators enhance the readability of the output.\n"
   ]
  },
  {
   "cell_type": "code",
   "execution_count": null,
   "metadata": {
    "id": "q70QI-FemvU4"
   },
   "outputs": [],
   "source": []
  },
  {
   "cell_type": "code",
   "execution_count": null,
   "metadata": {
    "id": "nN5L727bmvXT"
   },
   "outputs": [],
   "source": [
    "import requests\n",
    "import pickle\n",
    "\n",
    "# Replace the URL with the raw URL of your .pkl file in GitHub\n",
    "url = 'https://raw.githubusercontent.com/9394113857/Dumped_Models/main/Iphone_Price_LinearRegression.pkl'\n",
    "\n",
    "# Download the .pkl file from GitHub\n",
    "response = requests.get(url)\n",
    "with open('Iphone_Price_LinearRegression.pkl', 'wb') as f:\n",
    "    f.write(response.content)\n",
    "\n",
    "# Load the model from the downloaded .pkl file\n",
    "with open('Iphone_Price_LinearRegression.pkl', 'rb') as f:\n",
    "    model = pickle.load(f)\n"
   ]
  },
  {
   "cell_type": "code",
   "execution_count": null,
   "metadata": {
    "colab": {
     "base_uri": "https://localhost:8080/"
    },
    "id": "mgRBISbTUKmB",
    "outputId": "6549abc5-8f5a-436b-fd2f-816a0aa24e5b"
   },
   "outputs": [
    {
     "name": "stdout",
     "output_type": "stream",
     "text": [
      "Please Enter iPhone_version: 13\n",
      "\u001b[1mThe Dollar Amount is:\u001b[0m 1292.030303030303 Dollars\n",
      "\u001b[1mThe Amount in Rupees is:\u001b[0m 102987.73545454544 Rupees\n"
     ]
    }
   ],
   "source": [
    "import pickle\n",
    "\n",
    "# Load the saved linear regression model from the file 'Iphone_Price_LinearRegression.pkl'\n",
    "with open('Iphone_Price_LinearRegression.pkl', 'rb') as file:\n",
    "    model = pickle.load(file)\n",
    "\n",
    "# Prompt the user to enter the iPhone version for which they want to predict the price\n",
    "try:\n",
    "    iphone_version = float(input(\"Please Enter iPhone_version: \"))\n",
    "except ValueError:\n",
    "    print(\"Invalid input. Please enter a valid numeric value.\")\n",
    "    exit(1)\n",
    "\n",
    "# Use the loaded linear regression model to predict the corresponding price based on the input version\n",
    "prediction_value = model.predict([[iphone_version]])\n",
    "\n",
    "# Convert the predicted price from dollars to rupees using the exchange rate of 1 USD to 79.71 INR (Indian Rupees)\n",
    "dollar = prediction_value[0][0]\n",
    "rupees = dollar * 79.71\n",
    "\n",
    "# Print the predicted price in dollars and rupees\n",
    "# Note: The `prediction_value` variable is assumed to be a 2D array from the `predict` method,\n",
    "# so we access the predicted value using indexing [0][0].\n",
    "# The \"/033[1m\" escape code is used to make the text bold, and \"/033[0m\" is used to reset the formatting to normal.\n",
    "print(\"/033[1mThe Dollar Amount is:/033[0m\", dollar, \"Dollars\")\n",
    "print(\"/033[1mThe Amount in Rupees is:/033[0m\", rupees, \"Rupees\")\n"
   ]
  },
  {
   "cell_type": "code",
   "execution_count": null,
   "metadata": {
    "colab": {
     "base_uri": "https://localhost:8080/"
    },
    "id": "NsBtBXZhnI0q",
    "outputId": "3cb1b7e8-0a09-4c0e-aacd-34962faeccf0"
   },
   "outputs": [
    {
     "name": "stdout",
     "output_type": "stream",
     "text": [
      "1 USD = 82.2881 INR\n"
     ]
    }
   ],
   "source": [
    "import requests\n",
    "\n",
    "def get_exchange_rate(api_key, base_currency, target_currency):\n",
    "    url = f\"https://v6.exchangerate-api.com/v6/{api_key}/pair/{base_currency}/{target_currency}\"\n",
    "    response = requests.get(url)\n",
    "\n",
    "    if response.status_code == 200:\n",
    "        data = response.json()\n",
    "        return data.get(\"conversion_rate\", None)\n",
    "    else:\n",
    "        print(\"Failed to fetch exchange rates.\")\n",
    "\n",
    "    return None\n",
    "\n",
    "def main():\n",
    "    api_key = \"24deb0ef1b10d0e1838a1e1b\"  # Replace with your API key\n",
    "    base_currency = \"USD\"\n",
    "    target_currency = \"INR\"\n",
    "\n",
    "    exchange_rate = get_exchange_rate(api_key, base_currency, target_currency)\n",
    "    if exchange_rate is not None:\n",
    "        print(f\"1 {base_currency} = {exchange_rate} {target_currency}\")\n",
    "\n",
    "if __name__ == \"__main__\":\n",
    "    main()\n"
   ]
  },
  {
   "cell_type": "code",
   "execution_count": null,
   "metadata": {
    "id": "uF184mRjJHxw"
   },
   "outputs": [],
   "source": []
  },
  {
   "cell_type": "code",
   "execution_count": null,
   "metadata": {
    "colab": {
     "base_uri": "https://localhost:8080/"
    },
    "id": "YHdbi9kqLjsh",
    "outputId": "3ea36db1-4af6-43c5-a46b-7053db90f20e"
   },
   "outputs": [
    {
     "name": "stdout",
     "output_type": "stream",
     "text": [
      "1 USD = 82.2881 INR\n",
      "Please Enter iPhone_version: 13\n",
      "\u001b[1mThe Dollar Amount is:\u001b[0m 1292.030303030303 Dollars\n",
      "\u001b[1mThe Amount in Rupees is:\u001b[0m 106318.71877878788 Rupees\n"
     ]
    }
   ],
   "source": [
    "import requests\n",
    "import pickle\n",
    "\n",
    "def get_exchange_rate(api_key, base_currency, target_currency):\n",
    "    url = f\"https://v6.exchangerate-api.com/v6/{api_key}/pair/{base_currency}/{target_currency}\"\n",
    "    response = requests.get(url)\n",
    "\n",
    "    if response.status_code == 200:\n",
    "        data = response.json()\n",
    "        return data.get(\"conversion_rate\", None)\n",
    "    else:\n",
    "        print(\"Failed to fetch exchange rates.\")\n",
    "        return None\n",
    "\n",
    "def predict_iphone_price(iphone_version, exchange_rate):\n",
    "    # Load the saved linear regression model from the file 'Iphone_Price_LinearRegression.pkl'\n",
    "    with open('Iphone_Price_LinearRegression.pkl', 'rb') as file:\n",
    "        model = pickle.load(file)\n",
    "\n",
    "    # Use the loaded linear regression model to predict the corresponding price based on the input version\n",
    "    prediction_value = model.predict([[iphone_version]])\n",
    "\n",
    "    # Convert the predicted price from dollars to rupees using the provided exchange rate\n",
    "    dollar = prediction_value[0][0]\n",
    "    rupees = dollar * exchange_rate\n",
    "\n",
    "    # Print the predicted price in dollars and rupees\n",
    "    print(\"/033[1mThe Dollar Amount is:/033[0m\", dollar, \"Dollars\")\n",
    "    print(\"/033[1mThe Amount in Rupees is:/033[0m\", rupees, \"Rupees\")\n",
    "\n",
    "def main():\n",
    "    api_key = \"24deb0ef1b10d0e1838a1e1b\"  # Replace with your API key from exchangerate-api.com\n",
    "    base_currency = \"USD\"\n",
    "    target_currency = \"INR\"\n",
    "\n",
    "    exchange_rate = get_exchange_rate(api_key, base_currency, target_currency)\n",
    "    if exchange_rate is not None:\n",
    "        print(f\"1 {base_currency} = {exchange_rate} {target_currency}\")\n",
    "        try:\n",
    "            iphone_version = float(input(\"Please Enter iPhone_version: \"))\n",
    "        except ValueError:\n",
    "            print(\"Invalid input. Please enter a valid numeric value.\")\n",
    "            return\n",
    "\n",
    "        predict_iphone_price(iphone_version, exchange_rate)\n",
    "\n",
    "if __name__ == \"__main__\":\n",
    "    main()\n"
   ]
  },
  {
   "cell_type": "code",
   "execution_count": null,
   "metadata": {
    "id": "JX2f5JGGV8hO"
   },
   "outputs": [],
   "source": []
  },
  {
   "cell_type": "code",
   "execution_count": null,
   "metadata": {
    "id": "LsC9TekY925b"
   },
   "outputs": [],
   "source": [
    "import requests\n",
    "import pickle\n",
    "\n",
    "# Replace the URL with the raw URL of your .pkl file in GitHub\n",
    "url = 'https://raw.githubusercontent.com/9394113857/Dumped_Models/main/Iphone_Price_LinearRegression.pkl'\n",
    "\n",
    "# Download the .pkl file from GitHub\n",
    "response = requests.get(url)\n",
    "with open('Iphone_Price_LinearRegression.pkl', 'wb') as f:\n",
    "    f.write(response.content)\n",
    "\n",
    "# Load the model from the downloaded .pkl file\n",
    "with open('Iphone_Price_LinearRegression.pkl', 'rb') as f:\n",
    "    model = pickle.load(f)\n"
   ]
  },
  {
   "cell_type": "markdown",
   "metadata": {
    "id": "jeOAlnd9Xo7-"
   },
   "source": [
    "# Code with modifications:"
   ]
  },
  {
   "cell_type": "code",
   "execution_count": null,
   "metadata": {
    "colab": {
     "base_uri": "https://localhost:8080/",
     "height": 104
    },
    "id": "d7n8Osu0Gneo",
    "outputId": "da51dd4e-3e93-406c-ff52-120e3c84747f"
   },
   "outputs": [
    {
     "name": "stdout",
     "output_type": "stream",
     "text": [
      "1 USD = 82.2881 INR\n",
      "Please Enter iPhone_version: 13\n"
     ]
    },
    {
     "data": {
      "text/html": [
       "<b>The Dollar Amount is:</b> 1292.03 Dollars<br><b>The Amount in Rupees is:</b> 106,319 Rupees<br>One Lakh Six Thousand Three Hundred and Eighteen"
      ],
      "text/plain": [
       "<IPython.core.display.HTML object>"
      ]
     },
     "metadata": {},
     "output_type": "display_data"
    }
   ],
   "source": [
    "import requests\n",
    "import pickle\n",
    "from IPython.display import HTML\n",
    "import warnings\n",
    "\n",
    "# Suppress warnings\n",
    "warnings.filterwarnings(\"ignore\")\n",
    "\n",
    "def get_exchange_rate(api_key, base_currency, target_currency):\n",
    "    # Function to fetch the exchange rate from the API\n",
    "    url = f\"https://v6.exchangerate-api.com/v6/{api_key}/pair/{base_currency}/{target_currency}\"\n",
    "    response = requests.get(url)\n",
    "\n",
    "    if response.status_code == 200:\n",
    "        data = response.json()\n",
    "        return data.get(\"conversion_rate\", None)\n",
    "    else:\n",
    "        print(\"Failed to fetch exchange rates.\")\n",
    "        return None\n",
    "\n",
    "def num_to_words(num):\n",
    "    # Function to convert a number to words\n",
    "    # For simplicity, the function only works for numbers up to 99,99,99,999\n",
    "\n",
    "    ones = [\"\", \"One\", \"Two\", \"Three\", \"Four\", \"Five\", \"Six\", \"Seven\", \"Eight\", \"Nine\"]\n",
    "    teens = [\"\", \"Eleven\", \"Twelve\", \"Thirteen\", \"Fourteen\", \"Fifteen\", \"Sixteen\", \"Seventeen\", \"Eighteen\", \"Nineteen\"]\n",
    "    tens = [\"\", \"Ten\", \"Twenty\", \"Thirty\", \"Forty\", \"Fifty\", \"Sixty\", \"Seventy\", \"Eighty\", \"Ninety\"]\n",
    "\n",
    "    if num == 0:\n",
    "        return \"Zero\"\n",
    "\n",
    "    def convert_below_1000(num):\n",
    "        if num == 0:\n",
    "            return \"\"\n",
    "        elif num < 10:\n",
    "            return ones[num]\n",
    "        elif num < 20:\n",
    "            return teens[num % 10]\n",
    "        elif num < 100:\n",
    "            return tens[num // 10] + (\" \" + ones[num % 10] if num % 10 > 0 else \"\")\n",
    "        else:\n",
    "            return ones[num // 100] + \" Hundred\" + (\" and \" + convert_below_1000(num % 100) if num % 100 > 0 else \"\")\n",
    "\n",
    "    crore = num // 10000000\n",
    "    lakh = (num // 100000) % 100\n",
    "    thousand = (num // 1000) % 100\n",
    "    remaining = num % 1000\n",
    "\n",
    "    result = \"\"\n",
    "    if crore > 0:\n",
    "        result += convert_below_1000(crore) + \" Crore \"\n",
    "    if lakh > 0:\n",
    "        result += convert_below_1000(lakh) + \" Lakh \"\n",
    "    if thousand > 0:\n",
    "        result += convert_below_1000(thousand) + \" Thousand \"\n",
    "    if remaining > 0:\n",
    "        result += convert_below_1000(remaining)\n",
    "\n",
    "    return result.strip()\n",
    "\n",
    "def predict_iphone_price(iphone_version, exchange_rate):\n",
    "    # Function to predict the iPhone price using the provided exchange rate\n",
    "    # Load the saved linear regression model from the file 'Iphone_Price_LinearRegression.pkl'\n",
    "    with open('Iphone_Price_LinearRegression.pkl', 'rb') as file:\n",
    "        model = pickle.load(file)\n",
    "\n",
    "    # Use the loaded linear regression model to predict the corresponding price based on the input version\n",
    "    prediction_value = model.predict([[iphone_version]])\n",
    "\n",
    "    # Convert the predicted price from dollars to rupees using the provided exchange rate\n",
    "    dollar = prediction_value[0][0]\n",
    "    rupees = dollar * exchange_rate\n",
    "\n",
    "    # Format the amount with commas and convert the amount to words\n",
    "    formatted_amount = \"{:,.0f}\".format(rupees)\n",
    "    amount_in_words = num_to_words(int(rupees))\n",
    "\n",
    "    # Print the predicted price in dollars, rupees (with commas), and the amount in words\n",
    "    result_str = f\"<b>The Dollar Amount is:</b> {dollar:.2f} Dollars<br>\"\n",
    "    result_str += f\"<b>The Amount in Rupees is:</b> {formatted_amount} Rupees<br>\"\n",
    "    result_str += amount_in_words\n",
    "    display(HTML(result_str))\n",
    "\n",
    "def main():\n",
    "    # Main function to execute the program\n",
    "    api_key = \"24deb0ef1b10d0e1838a1e1b\"  # Replace with your API key from exchangerate-api.com\n",
    "    base_currency = \"USD\"\n",
    "    target_currency = \"INR\"\n",
    "\n",
    "    # Fetch the exchange rate from the API\n",
    "    exchange_rate = get_exchange_rate(api_key, base_currency, target_currency)\n",
    "    if exchange_rate is not None:\n",
    "        # Print the current exchange rate\n",
    "        print(f\"1 {base_currency} = {exchange_rate} {target_currency}\")\n",
    "        try:\n",
    "            # Get user input for iPhone version\n",
    "            iphone_version = float(input(\"Please Enter iPhone_version: \"))\n",
    "        except ValueError:\n",
    "            print(\"Invalid input. Please enter a valid numeric value.\")\n",
    "            return\n",
    "\n",
    "        # Predict iPhone price using the provided exchange rate\n",
    "        predict_iphone_price(iphone_version, exchange_rate)\n",
    "\n",
    "if __name__ == \"__main__\":\n",
    "    # Start the program by calling the main function\n",
    "    main()\n"
   ]
  },
  {
   "cell_type": "code",
   "execution_count": null,
   "metadata": {
    "id": "9zClqfjcMAFR"
   },
   "outputs": [],
   "source": []
  }
 ],
 "metadata": {
  "colab": {
   "provenance": []
  },
  "kernelspec": {
   "display_name": "Python 3 (ipykernel)",
   "language": "python",
   "name": "python3"
  },
  "language_info": {
   "codemirror_mode": {
    "name": "ipython",
    "version": 3
   },
   "file_extension": ".py",
   "mimetype": "text/x-python",
   "name": "python",
   "nbconvert_exporter": "python",
   "pygments_lexer": "ipython3",
   "version": "3.10.2"
  }
 },
 "nbformat": 4,
 "nbformat_minor": 4
}
